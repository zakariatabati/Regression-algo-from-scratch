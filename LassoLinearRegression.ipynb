{
 "cells": [
  {
   "cell_type": "code",
   "execution_count": 5,
   "metadata": {},
   "outputs": [],
   "source": [
    "import numpy as np "
   ]
  },
  {
   "cell_type": "code",
   "execution_count": 18,
   "metadata": {},
   "outputs": [],
   "source": [
    "class LassoLinearRegression:\n",
    "    def __init__(self,l_rate=0.01,iters=10,L1=2):\n",
    "        self.l_rate=l_rate\n",
    "        self.iters = iters\n",
    "        self.L1 = L1\n",
    "    def fit(self,x,y):\n",
    "        self.theta = np.zeros((x.shape[1]+1)).reshape((-1,1))\n",
    "        self.cost = []\n",
    "        m = x.shape[0]\n",
    "        for i in range(self.iters):\n",
    "            y_pred = self.theta[0] + np.dot(x,self.theta[1:]) + self.L1*np.sum(abs(self.theta[1:]))\n",
    "            j = (1/2)*np.sum((y_pred-y)**2)\n",
    "            self.cost.append(j)\n",
    "            d_theta0 = np.sum(y_pred-y)\n",
    "            d_theta1 = np.dot(x.T,(y_pred-y))\n",
    "            self.theta[0] = self.theta[0] - self.l_rate*d_theta0\n",
    "            self.theta[1:]= self.theta[1:] - self.l_rate*d_theta1 - self.L1*np.sum(abs(self.theta[1:]))\n",
    "    def predict(self,x):\n",
    "        return self.theta[0] + np.dot(x,self.theta[1:])"
   ]
  },
  {
   "cell_type": "markdown",
   "metadata": {},
   "source": [
    "# Testing"
   ]
  },
  {
   "cell_type": "code",
   "execution_count": 29,
   "metadata": {},
   "outputs": [],
   "source": [
    "import pandas as pd\n",
    "df = pd.read_csv(\"train (1).csv\")\n",
    "X = df[['OverallQual','GrLivArea']].values\n",
    "Y = df[['SalePrice']].values\n",
    "def scale(x):\n",
    "    x_sc = x - np.mean(x,axis=0)\n",
    "    x_sc = x_sc/np.std(x_sc,axis = 0)\n",
    "    return x_sc\n",
    "x = scale(X)\n",
    "y = np.log(Y)\n",
    "from sklearn.model_selection import train_test_split\n",
    "x_train,x_test,y_train,y_test = train_test_split(x,y,test_size=0.3)"
   ]
  },
  {
   "cell_type": "code",
   "execution_count": 34,
   "metadata": {},
   "outputs": [
    {
     "data": {
      "text/plain": [
       "1.3096702149919953e+226"
      ]
     },
     "execution_count": 34,
     "metadata": {},
     "output_type": "execute_result"
    }
   ],
   "source": [
    "model = LassoLinearRegression(iters=100,L1=3)\n",
    "model.fit(x_train,y_train)\n",
    "new_y = model.predict(x_train)\n",
    "from sklearn.metrics import mean_squared_error\n",
    "mse1= mean_squared_error(y_train,new_y)\n",
    "mse1"
   ]
  },
  {
   "cell_type": "code",
   "execution_count": 35,
   "metadata": {},
   "outputs": [
    {
     "data": {
      "text/plain": [
       "1.2818970792525856e+226"
      ]
     },
     "execution_count": 35,
     "metadata": {},
     "output_type": "execute_result"
    }
   ],
   "source": [
    "from sklearn.metrics import mean_squared_error\n",
    "y_p = model.predict(x_test)\n",
    "mse2= mean_squared_error(y_test,y_p)\n",
    "mse2"
   ]
  },
  {
   "cell_type": "markdown",
   "metadata": {},
   "source": [
    " "
   ]
  }
 ],
 "metadata": {
  "kernelspec": {
   "display_name": "Python 3",
   "language": "python",
   "name": "python3"
  },
  "language_info": {
   "codemirror_mode": {
    "name": "ipython",
    "version": 3
   },
   "file_extension": ".py",
   "mimetype": "text/x-python",
   "name": "python",
   "nbconvert_exporter": "python",
   "pygments_lexer": "ipython3",
   "version": "3.7.0"
  }
 },
 "nbformat": 4,
 "nbformat_minor": 2
}
